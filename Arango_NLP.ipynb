{
  "nbformat": 4,
  "nbformat_minor": 0,
  "metadata": {
    "colab": {
      "machine_shape": "hm",
      "gpuType": "T4",
      "provenance": [],
      "include_colab_link": true
    },
    "accelerator": "GPU",
    "kaggle": {
      "accelerator": "gpu"
    },
    "language_info": {
      "name": "python"
    },
    "kernelspec": {
      "name": "python3",
      "display_name": "Python 3"
    }
  },
  "cells": [
    {
      "cell_type": "markdown",
      "metadata": {
        "id": "view-in-github",
        "colab_type": "text"
      },
      "source": [
        "<a href=\"https://colab.research.google.com/github/Vinizx17/ArangoDB-NLP/blob/main/Arango_NLP.ipynb\" target=\"_parent\"><img src=\"https://colab.research.google.com/assets/colab-badge.svg\" alt=\"Open In Colab\"/></a>"
      ]
    },
    {
      "cell_type": "markdown",
      "source": [
        "<div style=\"text-align: center;\">\n",
        "    <img src=\"https://github.com/arangodb/interactive_tutorials/blob/master/notebooks/img/ArangoDB_logo.png?raw=1\" width=\"300\"/>\n",
        "</div>"
      ],
      "metadata": {
        "id": "atGWxLu_9vv6"
      }
    },
    {
      "cell_type": "markdown",
      "source": [
        "## Instalação de Dependências\n",
        "\n",
        "Nesta seção, instalamos todos os pacotes Python necessários para o tutorial. Inclui bibliotecas para manipulação de dados (`pandas`), interação com ArangoDB (`python-arango`, `pyarango`), modelos de NLP (`spacy`) e modelos de geração de texto (`transformers`).\n",
        "\n",
        "Também baixamos o modelo de português `pt_core_news_sm` do spaCy para análise de linguagem natural.\n",
        "\n",
        "Por fim, clonamos o repositório de tutoriais da ArangoDB para acessar exemplos prontos.\n"
      ],
      "metadata": {
        "id": "ATsDVMpL_SJX"
      }
    },
    {
      "cell_type": "code",
      "source": [
        "%%capture\n",
        "\n",
        "!pip install pandas python-arango pyarango spacy\n",
        "\n",
        "!python -m spacy download pt_core_news_sm\n",
        "\n",
        "# Clone repo\n",
        "!git clone https://github.com/arangodb/interactive_tutorials.git -b oasis_connector --single-branch\n",
        "!rsync -av interactive_tutorials/ ./ --exclude=.git\n"
      ],
      "metadata": {
        "id": "0jdxbf691i2n"
      },
      "execution_count": 64,
      "outputs": []
    },
    {
      "cell_type": "code",
      "source": [
        "import pandas as pd\n",
        "from arango import ArangoClient\n",
        "import oasis\n",
        "import zipfile\n",
        "import requests\n",
        "import spacy\n"
      ],
      "metadata": {
        "id": "aMWo0hTF4Vxs"
      },
      "execution_count": 65,
      "outputs": []
    },
    {
      "cell_type": "markdown",
      "source": [
        "## Conexão com ArangoDB\n",
        "\n",
        "Aqui conectamos ao banco ArangoDB Oasis.\n",
        "\n",
        "- Recuperamos credenciais temporárias fornecidas pelo serviço de tutoriais (`oasis.getTempCredentials`).  \n",
        "- Conectamos usando `oasis.connect_python_arango`.  \n",
        "- Mostramos na tela o host, porta, usuário e senha temporários.  \n",
        "\n",
        "Essa conexão será usada em todas as operações de leitura e escrita do tutorial.\n"
      ],
      "metadata": {
        "id": "A183LPYS_0Ib"
      }
    },
    {
      "cell_type": "code",
      "source": [
        "# Retrieve tmp credentials from ArangoDB Tutorial Service\n",
        "login = oasis.getTempCredentials(tutorialName=\"Movielens\", credentialProvider='https://tutorials.arangodb.cloud:8529/_db/_system/tutorialDB/tutorialDB')\n",
        "\n",
        "# Connect to the temp database\n",
        "db = oasis.connect_python_arango(login)\n",
        "\n",
        "print(\"https://{}:{}\".format(login[\"hostname\"], login[\"port\"]))\n",
        "print(\"Username: \" + login[\"username\"])\n",
        "print(\"Password: \" + login[\"password\"])\n",
        "print(\"Database: \" + login[\"dbName\"])"
      ],
      "metadata": {
        "id": "4olxUfk62JkI",
        "colab": {
          "base_uri": "https://localhost:8080/"
        },
        "outputId": "03ba02a6-2f8a-4658-920d-9764ff03ef1b"
      },
      "execution_count": 71,
      "outputs": [
        {
          "output_type": "stream",
          "name": "stdout",
          "text": [
            "Reusing cached credentials.\n",
            "https://tutorials.arangodb.cloud:8529\n",
            "Username: TUTyldl39um9rc84y6lg24jqi\n",
            "Password: TUTznnfzlfk4j23pckee6gb\n",
            "Database: TUTqhru6uan385a0q35wthbb\n"
          ]
        }
      ]
    },
    {
      "cell_type": "markdown",
      "source": [
        "## Inserção dos dados\n",
        "\n",
        "Nesta seção carregamos e inserimos os dados no ArangoDB.\n",
        "\n",
        "1. Baixamos um CSV de clientes de um repositório público do GitHub.  \n",
        "2. Conectamos novamente ao ArangoDB usando dados fixos (opcional se quiser usar suas próprias credenciais).  \n",
        "3. Criamos as coleções e o grafo (`Customers`, `Stores`, `Cities`, `LIVES_IN`, `PREFERRED_STORE`) se não existirem.  \n",
        "4. Referenciamos essas coleções para facilitar operações futuras.  \n",
        "5. Preparamos os dados para **bulk insert**, separando clientes, cidades, lojas e as arestas do grafo.  \n",
        "6. Inserimos os dados em massa no banco para criar o grafo de clientes, cidades e lojas."
      ],
      "metadata": {
        "id": "RslZlBKvALYW"
      }
    },
    {
      "cell_type": "code",
      "source": [
        "%%capture\n",
        "\n",
        "# -------------------------------------------------------\n",
        "# 1. Baixar CSV do GitHub\n",
        "url = \"https://raw.githubusercontent.com/microsoft/fabric-samples/main/community-samples/PII%20SparkShield/data/customer-profile-sample-data/customers-sampledata.csv\"\n",
        "df = pd.read_csv(url)\n",
        "print(\"Amostra do CSV:\")\n",
        "print(df.head())\n"
      ],
      "metadata": {
        "id": "c9KySuc95NfI"
      },
      "execution_count": null,
      "outputs": []
    },
    {
      "cell_type": "code",
      "source": [
        "# -------------------------------------------------------\n",
        "# 2. Conexão com ArangoDB Oasis\n",
        "# Fixed connection data (replace with your own)\n",
        "HOST = \"https://tutorials.arangodb.cloud:8529\"\n",
        "DB_NAME = \"TUTqhru6uan385a0q35wthbb\" #Your DB name\n",
        "USERNAME = \"TUTyldl39um9rc84y6lg24jqi\" #Your Username\n",
        "PASSWORD = \"TUTznnfzlfk4j23pckee6gb\" #Your Password\n",
        "\n",
        "# Set up connection\n",
        "client = ArangoClient(hosts=HOST)\n",
        "db = client.db(DB_NAME, username=USERNAME, password=PASSWORD)\n",
        "\n",
        "\n",
        "# -------------------------------------------------------\n",
        "# 3. Criar coleções e grafo (se não existirem)\n",
        "for col_name in [\"Customers\", \"Stores\", \"Cities\", \"LIVES_IN\", \"PREFERRED_STORE\"]:\n",
        "    if not db.has_collection(col_name):\n",
        "        db.create_collection(col_name, edge=(col_name in [\"LIVES_IN\", \"PREFERRED_STORE\"]))\n",
        "\n",
        "if not db.has_graph(\"CustomerGraph\"):\n",
        "    db.create_graph(\n",
        "        \"CustomerGraph\",\n",
        "        edge_definitions=[\n",
        "            {\n",
        "                \"edge_collection\": \"LIVES_IN\",\n",
        "                \"from_vertex_collections\": [\"Customers\"],\n",
        "                \"to_vertex_collections\": [\"Cities\"]\n",
        "            },\n",
        "            {\n",
        "                \"edge_collection\": \"PREFERRED_STORE\",\n",
        "                \"from_vertex_collections\": [\"Customers\"],\n",
        "                \"to_vertex_collections\": [\"Stores\"]\n",
        "            }\n",
        "        ]\n",
        "    )\n",
        "\n",
        "# -------------------------------------------------------\n",
        "# 4. Referência às coleções\n",
        "customers = db.collection(\"Customers\")\n",
        "stores = db.collection(\"Stores\")\n",
        "cities = db.collection(\"Cities\")\n",
        "lives_in = db.collection(\"LIVES_IN\")\n",
        "preferred_store = db.collection(\"PREFERRED_STORE\")\n",
        "\n",
        "# -------------------------------------------------------\n",
        "# 5. Preparar dados para bulk insert\n",
        "customers_docs = []\n",
        "cities_docs = {}\n",
        "stores_docs = {}\n",
        "edges_lives_in = []\n",
        "edges_preferred_store = []\n",
        "\n",
        "for _, row in df.iterrows():\n",
        "    cust_key = row[\"CustomerID\"]\n",
        "\n",
        "    # Cliente\n",
        "    customers_docs.append({\n",
        "        \"_key\": cust_key,\n",
        "        \"FirstName\": row[\"FirstName\"],\n",
        "        \"LastName\": row[\"LastName\"],\n",
        "        \"Email\": row[\"Email\"],\n",
        "        \"PhoneNumber\": row[\"PhoneNumber\"],\n",
        "        \"DateOfBirth\": row[\"DateOfBirth\"],\n",
        "        \"Gender\": row[\"Gender\"],\n",
        "        \"RegistrationDate\": row[\"RegistrationDate\"],\n",
        "        \"LoyaltyPoints\": row[\"LoyaltyPoints\"],\n",
        "        \"MarketingOptIn\": row[\"MarketingOptIn\"]\n",
        "    })\n",
        "\n",
        "    # Cidade\n",
        "    city_key = row[\"City\"].replace(\" \", \"_\") + \"_\" + row[\"State\"]\n",
        "    if city_key not in cities_docs:\n",
        "        cities_docs[city_key] = {\n",
        "            \"_key\": city_key,\n",
        "            \"City\": row[\"City\"],\n",
        "            \"State\": row[\"State\"],\n",
        "            \"Country\": row[\"Country\"],\n",
        "            \"PostalCode\": row[\"PostalCode\"]\n",
        "        }\n",
        "\n",
        "    # Loja\n",
        "    store_key = row[\"PreferredStore\"].replace(\" \", \"_\")\n",
        "    if store_key not in stores_docs:\n",
        "        stores_docs[store_key] = {\n",
        "            \"_key\": store_key,\n",
        "            \"StoreName\": row[\"PreferredStore\"]\n",
        "        }\n",
        "\n",
        "    # Arestas\n",
        "    edges_lives_in.append({\n",
        "        \"_from\": f\"Customers/{cust_key}\",\n",
        "        \"_to\": f\"Cities/{city_key}\"\n",
        "    })\n",
        "    edges_preferred_store.append({\n",
        "        \"_from\": f\"Customers/{cust_key}\",\n",
        "        \"_to\": f\"Stores/{store_key}\"\n",
        "    })\n",
        "\n",
        "# -------------------------------------------------------\n",
        "# 6. Bulk insert\n",
        "customers.import_bulk(customers_docs, overwrite=True)\n",
        "cities.import_bulk(list(cities_docs.values()), overwrite=True)\n",
        "stores.import_bulk(list(stores_docs.values()), overwrite=True)\n",
        "lives_in.import_bulk(edges_lives_in, overwrite=True)\n",
        "preferred_store.import_bulk(edges_preferred_store, overwrite=True)\n"
      ],
      "metadata": {
        "id": "4JyfE9ZV3oJr",
        "colab": {
          "base_uri": "https://localhost:8080/"
        },
        "outputId": "e9af273e-633a-4ae0-f2b0-102722eb0d1c"
      },
      "execution_count": 67,
      "outputs": [
        {
          "output_type": "execute_result",
          "data": {
            "text/plain": [
              "{'error': False,\n",
              " 'created': 20,\n",
              " 'errors': 0,\n",
              " 'empty': 0,\n",
              " 'updated': 0,\n",
              " 'ignored': 0,\n",
              " 'details': []}"
            ]
          },
          "metadata": {},
          "execution_count": 67
        }
      ]
    },
    {
      "cell_type": "markdown",
      "source": [
        "## Prompt com exemplos de perguntas\n",
        "\n",
        "\n",
        "Aqui criamos funções para responder perguntas em linguagem natural sobre os clientes.  \n",
        "\n",
        "- `extract_intent_entities(question)`: identifica intenção da pergunta e extrai entidades (cidade, loja, gênero, pontos de fidelidade, data de cadastro).  \n",
        "- `build_aql(intent, entities)`: constrói consultas AQL com base na intenção e entidades identificadas.  \n",
        "- `answer_question(question)`: função principal que executa a AQL no ArangoDB e retorna um resumo de clientes correspondente à pergunta.\n",
        "\n",
        "Essa seção permite consultar o grafo usando perguntas do tipo:  \n",
        "- \"Quais clientes moram na cidade de X?\"  \n",
        "- \"Quem prefere a loja Y?\"  \n",
        "- \"Quais clientes têm pontos de fidelidade acima de 500?\""
      ],
      "metadata": {
        "id": "Sz-1NjgbAVAZ"
      }
    },
    {
      "cell_type": "code",
      "source": [
        "# Inicializa spaCy\n",
        "nlp = spacy.load(\"pt_core_news_sm\")  # modelo em português\n",
        "\n",
        "# Função para identificar intenção e entidades\n",
        "def extract_intent_entities(question):\n",
        "    doc = nlp(question.lower())\n",
        "    intent = None\n",
        "    entities = {}\n",
        "\n",
        "    # Identificar cidade (entidade GPE)\n",
        "    for ent in doc.ents:\n",
        "        if ent.label_ in [\"LOC\", \"GPE\"]:\n",
        "            entities['city'] = ent.text.title()\n",
        "\n",
        "    # Palavras-chave de intenção\n",
        "    if any(token.text in [\"cidade\", \"mora\", \"reside\"] for token in doc):\n",
        "        intent = \"city\"\n",
        "    elif any(token.text in [\"loja\", \"prefere\", \"frequenta\"] for token in doc):\n",
        "        intent = \"store\"\n",
        "        # tenta extrair nome da loja do texto\n",
        "        entities['store'] = question.split(\"loja\")[-1].strip().replace(\"?\", \"\").title()\n",
        "    elif any(token.text in [\"gênero\", \"sexo\"] for token in doc):\n",
        "        intent = \"gender\"\n",
        "        entities['gender'] = question.split(\"gênero\")[-1].strip().replace(\"?\", \"\").title()\n",
        "    elif \"pontos de fidelidade\" in question:\n",
        "        intent = \"loyalty_points\"\n",
        "        import re\n",
        "        match = re.search(r\"acima de (\\d+)\", question)\n",
        "        if match:\n",
        "            entities['points'] = int(match.group(1))\n",
        "    elif \"cadastro\" in question and \"após\" in question:\n",
        "        intent = \"registration_date\"\n",
        "        import re\n",
        "        match = re.search(r\"após (\\d{4}-\\d{2}-\\d{2})\", question)\n",
        "        if match:\n",
        "            entities['date'] = match.group(1)\n",
        "\n",
        "    return intent, entities\n",
        "\n",
        "# Função para gerar AQL\n",
        "def build_aql(intent, entities):\n",
        "    if intent == \"city\" and 'city' in entities:\n",
        "        city_name = entities['city']\n",
        "        return f\"\"\"\n",
        "        WITH Customers, Cities, LIVES_IN\n",
        "        FOR c IN Customers\n",
        "            FOR ci IN OUTBOUND c LIVES_IN\n",
        "                FILTER ci.City == \"{city_name}\"\n",
        "                RETURN {{\n",
        "                    CustomerID: c._key,\n",
        "                    Nome: CONCAT(c.FirstName, \" \", c.LastName),\n",
        "                    Email: c.Email,\n",
        "                    Cidade: ci.City\n",
        "                }}\n",
        "        \"\"\"\n",
        "    elif intent == \"store\" and 'store' in entities:\n",
        "        store_name = entities['store']\n",
        "        return f\"\"\"\n",
        "        WITH Customers, Stores, PREFERRED_STORE\n",
        "        FOR c IN Customers\n",
        "            FOR s IN OUTBOUND c PREFERRED_STORE\n",
        "                FILTER s.StoreName == \"{store_name}\"\n",
        "                RETURN {{\n",
        "                    CustomerID: c._key,\n",
        "                    Nome: CONCAT(c.FirstName, \" \", c.LastName),\n",
        "                    Email: c.Email,\n",
        "                    Loja: s.StoreName\n",
        "                }}\n",
        "        \"\"\"\n",
        "    elif intent == \"gender\" and 'gender' in entities:\n",
        "        gender = entities['gender']\n",
        "        return f\"\"\"\n",
        "        FOR c IN Customers\n",
        "            FILTER c.Gender == \"{gender}\"\n",
        "            RETURN {{\n",
        "                CustomerID: c._key,\n",
        "                Nome: CONCAT(c.FirstName, \" \", c.LastName),\n",
        "                Email: c.Email,\n",
        "                Gênero: c.Gender\n",
        "            }}\n",
        "        \"\"\"\n",
        "    elif intent == \"loyalty_points\" and 'points' in entities:\n",
        "        points = entities['points']\n",
        "        return f\"\"\"\n",
        "        FOR c IN Customers\n",
        "            FILTER c.LoyaltyPoints > {points}\n",
        "            RETURN {{\n",
        "                CustomerID: c._key,\n",
        "                Nome: CONCAT(c.FirstName, \" \", c.LastName),\n",
        "                Email: c.Email,\n",
        "                Pontos: c.LoyaltyPoints\n",
        "            }}\n",
        "        \"\"\"\n",
        "    elif intent == \"registration_date\" and 'date' in entities:\n",
        "        date = entities['date']\n",
        "        return f\"\"\"\n",
        "        FOR c IN Customers\n",
        "            FILTER c.RegistrationDate > \"{date}\"\n",
        "            RETURN {{\n",
        "                CustomerID: c._key,\n",
        "                Nome: CONCAT(c.FirstName, \" \", c.LastName),\n",
        "                Email: c.Email,\n",
        "                DataCadastro: c.RegistrationDate\n",
        "            }}\n",
        "        \"\"\"\n",
        "    else:\n",
        "        return None\n",
        "\n",
        "# Função principal\n",
        "def answer_question(question):\n",
        "    intent, entities = extract_intent_entities(question)\n",
        "    aql = build_aql(intent, entities)\n",
        "\n",
        "    if not aql:\n",
        "        return \"Não consegui identificar a pergunta. Tente algo como 'Quais clientes moram na cidade de X?' ou 'Quais clientes preferem a loja Y?'\"\n",
        "\n",
        "    try:\n",
        "        cursor = db.aql.execute(aql)\n",
        "        results = list(cursor)\n",
        "\n",
        "        if not results:\n",
        "            return \"Não encontrei clientes correspondentes.\"\n",
        "\n",
        "        # Resumo dos dados\n",
        "        summary = \"Aqui estão alguns clientes:\\n\"\n",
        "        for r in results[:10]:\n",
        "            summary += f\"{r['Nome']}\\n\"\n",
        "        return summary\n",
        "\n",
        "    except Exception as e:\n",
        "        return f\"Erro ao executar AQL: {str(e)}\"\n"
      ],
      "metadata": {
        "id": "mv6rYq3l2ChN"
      },
      "execution_count": 69,
      "outputs": []
    },
    {
      "cell_type": "code",
      "source": [
        "# Exemplo de perguntas\n",
        "pergunta = \"Quem prefere a loja Perez Ltd?\"\n",
        "\n",
        "# Executando as perguntas\n",
        "print(answer_question(pergunta))\n",
        "\n"
      ],
      "metadata": {
        "colab": {
          "base_uri": "https://localhost:8080/"
        },
        "id": "WrbLZSwB3wAF",
        "outputId": "4fc53def-ae05-4639-9955-5d4c02e5ece0"
      },
      "execution_count": 70,
      "outputs": [
        {
          "output_type": "stream",
          "name": "stdout",
          "text": [
            "Aqui estão alguns clientes:\n",
            "Janet Chavez\n",
            "\n"
          ]
        }
      ]
    }
  ]
}